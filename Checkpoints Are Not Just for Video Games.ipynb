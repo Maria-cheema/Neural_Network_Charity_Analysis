{
 "cells": [
  {
   "cell_type": "markdown",
   "id": "eb721f1d",
   "metadata": {},
   "source": [
    "# 20.6.1\n",
    "Checkpoints Are Not Just for Video Games"
   ]
  },
  {
   "cell_type": "code",
   "execution_count": null,
   "id": "fe382020",
   "metadata": {},
   "outputs": [],
   "source": []
  }
 ],
 "metadata": {
  "kernelspec": {
   "display_name": "mlenv",
   "language": "python",
   "name": "mlenv"
  },
  "language_info": {
   "codemirror_mode": {
    "name": "ipython",
    "version": 3
   },
   "file_extension": ".py",
   "mimetype": "text/x-python",
   "name": "python",
   "nbconvert_exporter": "python",
   "pygments_lexer": "ipython3",
   "version": "3.7.13"
  }
 },
 "nbformat": 4,
 "nbformat_minor": 5
}
